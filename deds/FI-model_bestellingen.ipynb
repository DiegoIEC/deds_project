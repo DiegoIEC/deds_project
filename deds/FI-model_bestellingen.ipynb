{
 "cells": [
  {
   "cell_type": "code",
   "execution_count": 2,
   "metadata": {},
   "outputs": [],
   "source": [
    "import sqlite3\n",
    "import pyodbc\n",
    "import pandas as pd\n",
    "import numpy as np\n",
    "from collections import defaultdict\n",
    "from mlxtend.preprocessing import TransactionEncoder\n",
    "from mlxtend.frequent_patterns import apriori, association_rules"
   ]
  },
  {
   "cell_type": "code",
   "execution_count": null,
   "metadata": {},
   "outputs": [],
   "source": [
    "DB = {\n",
    "    'servername': 'tcp:dwhunitedoutdoors.database.windows.net,1433',\n",
    "    'database': 'DWH_United_Outdoors',\n",
    "    'username': 'onderzoeker',\n",
    "    'password': 'Wachtwoord1.' \n",
    "}\n",
    "\n",
    "conn_str = (\n",
    "    'DRIVER={ODBC Driver 17 for SQL Server};'\n",
    "    'SERVER=' + DB['servername'] + ';'\n",
    "    'DATABASE=' + DB['database'] + ';'\n",
    "    'UID=' + DB['username'] + ';'\n",
    "    'PWD=' + DB['password'] + ';'\n",
    "    'Encrypt=yes;'\n",
    "    'TrustServerCertificate=no;'\n",
    "    'Connection Timeout=30;'\n",
    ")\n",
    "\n",
    "dwh_conn = pyodbc.connect(conn_str)\n",
    "dwh_cursor = dwh_conn.cursor()\n",
    "dwh_cursor "
   ]
  },
  {
   "cell_type": "markdown",
   "metadata": {},
   "source": [
    "merge va de bestelling tabellen "
   ]
  },
  {
   "cell_type": "code",
   "execution_count": null,
   "metadata": {},
   "outputs": [],
   "source": []
  },
  {
   "cell_type": "code",
   "execution_count": null,
   "metadata": {},
   "outputs": [],
   "source": [
    "blank = df.groupby('blank')['blank'].apply(list).tolist()\n",
    "\n",
    "te = TransactionEncoder()\n",
    "te_ary = te.fit(blank).transform(blank)\n",
    "df_encoded = pd.DataFrame(te_ary, columns=te.columns_)\n",
    "\n",
    "# 4. Definieer een functie om het Apriori-algoritme uit te voeren en associatieregels te genereren\n",
    "def find_frequent_itemsets(df, min_support, min_confidence):\n",
    "    frequent_itemsets = apriori(df, min_support=min_support, use_colnames=True)\n",
    "    rules = association_rules(frequent_itemsets, metric=\"confidence\", min_threshold=min_confidence)\n",
    "    return frequent_itemsets, rules\n",
    "\n",
    "# 5. Voer een grid search uit om de beste parameters te vinden\n",
    "best_support = 0\n",
    "best_confidence = 0\n",
    "best_score = 0\n",
    "best_frequent_itemsets = None\n",
    "best_rules = None\n",
    "\n",
    "support_values = [0.5, 0.6, 0.7]\n",
    "confidence_values = [0.6, 0.7, 0.8]\n",
    "\n",
    "for support in support_values:\n",
    "    for confidence in confidence_values:\n",
    "        frequent_itemsets, rules = find_frequent_itemsets(df_encoded, support, confidence)\n",
    "        score = len(rules)  # Voorbeeld evaluatiemetric: aantal regels\n",
    "        if score > best_score:\n",
    "            best_score = score\n",
    "            best_support = support\n",
    "            best_confidence = confidence\n",
    "            best_frequent_itemsets = frequent_itemsets\n",
    "            best_rules = rules\n",
    "\n",
    "# 6. Toon de beste frequent itemsets en associatieregels\n",
    "print(f\"Beste minimale support: {best_support}\")\n",
    "print(f\"Beste minimale confidence: {best_confidence}\")\n",
    "print(f\"Aantal regels: {best_score}\")\n",
    "\n",
    "print(\"\\nBeste Frequent Itemsets:\")\n",
    "print(best_frequent_itemsets)\n",
    "\n",
    "print(\"\\nBeste Association Rules:\")\n",
    "print(best_rules)"
   ]
  }
 ],
 "metadata": {
  "kernelspec": {
   "display_name": "Python 3",
   "language": "python",
   "name": "python3"
  },
  "language_info": {
   "codemirror_mode": {
    "name": "ipython",
    "version": 3
   },
   "file_extension": ".py",
   "mimetype": "text/x-python",
   "name": "python",
   "nbconvert_exporter": "python",
   "pygments_lexer": "ipython3",
   "version": "3.12.2"
  },
  "orig_nbformat": 4
 },
 "nbformat": 4,
 "nbformat_minor": 2
}
