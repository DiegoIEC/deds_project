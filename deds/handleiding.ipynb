{
 "cells": [
  {
   "cell_type": "markdown",
   "metadata": {},
   "source": [
    "# Documentatie en Handleiding"
   ]
  },
  {
   "cell_type": "markdown",
   "metadata": {},
   "source": [
    "## Onderzoeksvraag"
   ]
  },
  {
   "cell_type": "markdown",
   "metadata": {},
   "source": [
    "Hoe kan United Outdoors met behulp van een schaalbaar en overdraagbaar Data Warehouse (DWH) en voorspellende Machine-Learningmodellen effectieve strategische beslissingen nemen om de concurrentie met Great Outdoors aan te gaan en de grootste speler te worden in de outdoor- en sportmarkten?"
   ]
  },
  {
   "cell_type": "markdown",
   "metadata": {},
   "source": [
    "### Deelvragen en Bijbehorende Deelprojecten"
   ]
  },
  {
   "cell_type": "markdown",
   "metadata": {},
   "source": [
    "1. Schaalbaar en Overdraagbaar Data Warehouse (DWH)\n",
    "\n",
    "    Deelvraag: Hoe kunnen de data van AenC, AdventureWorks en Northwind het best worden geïntegreerd in een schaalbaar en overdraagbaar DWH dat toekomstige uitbreiding mogelijk maakt?\n",
    "    \n",
    "    Doel: Ontwerpen en implementeren van een DWH waarin alle feit- en dimensietabellen uit de brondatabases zijn opgenomen, inclusief samenvoegingen van sterk gerelateerde data."
   ]
  },
  {
   "cell_type": "markdown",
   "metadata": {},
   "source": [
    "2. Shortlist van Mogelijk Relevante Afhankelijke Variabelen\n",
    "\n",
    "    Deelvraag: Welke afhankelijke variabelen zijn het meest relevant voor het nemen van strategische beslissingen en welke onafhankelijke variabelen kunnen het beste worden gebruikt om deze te voorspellen?\n",
    "    \n",
    "    Doel: Opstellen van een shortlist met relevante afhankelijke variabelen, inclusief twee kenmerken per variabele, zoals de relevantie voor beslissingen en passende onafhankelijke variabelen."
   ]
  },
  {
   "cell_type": "markdown",
   "metadata": {},
   "source": [
    "3. Machine-Learningmodellen voor Voorspellende Analyses\n",
    "\n",
    "    Deelvraag: Welke Machine-Learningmodellen kunnen de voorspellingen van de geselecteerde afhankelijke variabelen het meest accuraat maken, en hoe kunnen deze modellen iteratief geoptimaliseerd worden?\n",
    "    \n",
    "    Doel: Ontwikkelen en optimaliseren van meerdere Machine-Learningmodellen om nauwkeurige voorspellingen te doen en daarmee strategische beslissingen te ondersteunen."
   ]
  },
  {
   "cell_type": "markdown",
   "metadata": {},
   "source": [
    "4. Interactief Dashboard voor Data-analyses\n",
    "\n",
    "    Deelvraag: Hoe kan een interactief dashboard worden ontworpen en geïmplementeerd dat zowel hedendaagse als voorspellende data-analyses inzichtelijk maakt voor de data-analisten van United Outdoors?\n",
    "    \n",
    "    Doel: Ontwikkelen van een Power BI-dashboard met visualisaties van sturingsinformatie en voorspellende analyses, inclusief interactieve elementen zoals filters en drill-downstructuren."
   ]
  }
 ],
 "metadata": {
  "language_info": {
   "name": "python"
  }
 },
 "nbformat": 4,
 "nbformat_minor": 2
}
