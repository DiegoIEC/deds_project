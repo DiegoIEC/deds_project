{
 "cells": [
  {
   "cell_type": "code",
   "execution_count": 1,
   "metadata": {},
   "outputs": [],
   "source": [
    "import pandas as pd \n",
    "import pyodbc\n",
    "import warnings\n",
    "warnings.simplefilter('ignore')\n",
    "import sqlite3\n",
    "from sklearn.model_selection import train_test_split\n",
    "from sklearn.linear_model import LinearRegression\n",
    "from sklearn.metrics import mean_absolute_error, mean_squared_error\n",
    "import matplotlib.pyplot as pit"
   ]
  },
  {
   "cell_type": "code",
   "execution_count": null,
   "metadata": {},
   "outputs": [],
   "source": [
    "DB = {\n",
    "    'servername': 'tcp:dwhunitedoutdoors.database.windows.net,1433',\n",
    "    'database': 'DWH_United_Outdoors',\n",
    "    'username': 'onderzoeker',\n",
    "    'password': 'Wachtwoord1.' \n",
    "}\n",
    "\n",
    "conn_str = (\n",
    "    'DRIVER={ODBC Driver 17 for SQL Server};'\n",
    "    'SERVER=' + DB['servername'] + ';'\n",
    "    'DATABASE=' + DB['database'] + ';'\n",
    "    'UID=' + DB['username'] + ';'\n",
    "    'PWD=' + DB['password'] + ';'\n",
    "    'Encrypt=yes;'\n",
    "    'TrustServerCertificate=no;'\n",
    "    'Connection Timeout=30;'\n",
    ")\n",
    "\n",
    "dwh_conn = pyodbc.connect(conn_str)\n",
    "dwh_cursor = dwh_conn.cursor()\n",
    "dwh_cursor "
   ]
  },
  {
   "cell_type": "markdown",
   "metadata": {},
   "source": [
    "hier moeten de merged tables komen"
   ]
  },
  {
   "cell_type": "code",
   "execution_count": null,
   "metadata": {},
   "outputs": [],
   "source": []
  },
  {
   "cell_type": "code",
   "execution_count": null,
   "metadata": {},
   "outputs": [],
   "source": [
    "selected_columns = ['blank']\n",
    "\n",
    "X = merged_data[selected_columns]\n",
    "y = merged_data['blank']\n",
    "\n",
    "X = pd.get_dummies(X)"
   ]
  },
  {
   "cell_type": "code",
   "execution_count": null,
   "metadata": {},
   "outputs": [],
   "source": [
    "X_train, X_test, y_train, y_test = train_test_split(X, y, test_size=0.2, random_state=42)\n",
    "\n",
    "model = LinearRegression().fit(X_train, y_train)\n",
    "\n",
    "y_pred = model.predict(X_test)"
   ]
  },
  {
   "cell_type": "code",
   "execution_count": null,
   "metadata": {},
   "outputs": [],
   "source": [
    "pit.scatter(results['blank'], results['predblank'])\n",
    "pit.xlabel('Quantity')\n",
    "pit.ylabel('pred_Quantity')\n",
    "pit.show()"
   ]
  },
  {
   "cell_type": "code",
   "execution_count": null,
   "metadata": {},
   "outputs": [],
   "source": [
    "mse = mean_squared_error(y_test, y_pred)\n",
    "mae = mean_absolute_error(y_test, y_pred)\n",
    "\n",
    "print(\"Mean Squared Error:\", mse)\n",
    "print(\"Mean Absolute Error:\", mae)"
   ]
  }
 ],
 "metadata": {
  "kernelspec": {
   "display_name": "Python 3",
   "language": "python",
   "name": "python3"
  },
  "language_info": {
   "codemirror_mode": {
    "name": "ipython",
    "version": 3
   },
   "file_extension": ".py",
   "mimetype": "text/x-python",
   "name": "python",
   "nbconvert_exporter": "python",
   "pygments_lexer": "ipython3",
   "version": "3.12.2"
  },
  "orig_nbformat": 4
 },
 "nbformat": 4,
 "nbformat_minor": 2
}
