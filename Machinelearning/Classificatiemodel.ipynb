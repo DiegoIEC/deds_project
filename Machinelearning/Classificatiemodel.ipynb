{
 "cells": [
  {
   "cell_type": "code",
   "execution_count": 2,
   "metadata": {},
   "outputs": [],
   "source": [
    "import pandas as pd\n",
    "import pyodbc\n",
    "from sklearn.model_selection import train_test_split\n",
    "from sklearn.tree import DecisionTreeClassifier\n",
    "from sklearn import tree\n",
    "from sklearn import metrics\n",
    "import matplotlib.pyplot as plt"
   ]
  },
  {
   "cell_type": "code",
   "execution_count": null,
   "metadata": {},
   "outputs": [],
   "source": [
    "DB = {\n",
    "    'servername': 'tcp:dwhunitedoutdoors.database.windows.net,1433',\n",
    "    'database': 'DWH_United_Outdoors',\n",
    "    'username': 'onderzoeker',\n",
    "    'password': 'Wachtwoord1.' \n",
    "}\n",
    "\n",
    "conn_str = (\n",
    "    'DRIVER={ODBC Driver 17 for SQL Server};'\n",
    "    'SERVER=' + DB['servername'] + ';'\n",
    "    'DATABASE=' + DB['database'] + ';'\n",
    "    'UID=' + DB['username'] + ';'\n",
    "    'PWD=' + DB['password'] + ';'\n",
    "    'Encrypt=yes;'\n",
    "    'TrustServerCertificate=no;'\n",
    "    'Connection Timeout=30;'\n",
    ")\n",
    "\n",
    "dwh_conn = pyodbc.connect(conn_str)\n",
    "dwh_cursor = dwh_conn.cursor()\n",
    "dwh_cursor "
   ]
  },
  {
   "cell_type": "markdown",
   "metadata": {},
   "source": [
    "tabellen merges"
   ]
  },
  {
   "cell_type": "code",
   "execution_count": null,
   "metadata": {},
   "outputs": [],
   "source": []
  },
  {
   "cell_type": "code",
   "execution_count": null,
   "metadata": {},
   "outputs": [],
   "source": [
    "X = merged_data[['blank']]\n",
    "y = merged_data['blank']\n",
    "\n",
    "X_train, X_test, y_train, y_test = train_test_split(X, y, test_size=0.2, random_state=42)\n",
    "\n",
    "clf = DecisionTreeClassifier(max_depth=8)\n",
    "clf.fit(X_train, y_train)\n",
    "\n",
    "y_pred = clf.predict(X_test)\n",
    "\n",
    "mse = metrics.mean_squared_error(y_test, y_pred)\n",
    "accuracy = metrics.accuracy_score(y_test, y_pred)\n",
    "print(\"Accuracy:\", accuracy)\n",
    "print(\"Mean squared error\", mse)"
   ]
  },
  {
   "cell_type": "code",
   "execution_count": null,
   "metadata": {},
   "outputs": [],
   "source": [
    "import matplotlib.pyplot as plt\n",
    "from sklearn.tree import plot_tree\n",
    "\n",
    "plt.figure(figsize=(15,10))\n",
    "plot_tree(clf, feature_names=X.columns, class_names=[str(x) for x in clf.classes_], filled=True)\n",
    "plt.show()\n"
   ]
  },
  {
   "cell_type": "code",
   "execution_count": null,
   "metadata": {},
   "outputs": [],
   "source": [
    "results_df = pd.DataFrame({'Actual': y_test, 'Predicted': y_pred})\n",
    "\n",
    "results_df"
   ]
  },
  {
   "cell_type": "code",
   "execution_count": null,
   "metadata": {},
   "outputs": [],
   "source": [
    "import numpy as np\n",
    "conf_matrix = metrics.confusion_matrix(y_test, y_pred)\n",
    "\n",
    "unique_classes = np.unique(np.concatenate((y_test, y_pred)))\n",
    "\n",
    "display = ConfusionMatrixDisplay(confusion_matrix=conf_matrix, display_labels=unique_classes)\n",
    "display.plot()\n",
    "plt.show()"
   ]
  }
 ],
 "metadata": {
  "kernelspec": {
   "display_name": "Python 3",
   "language": "python",
   "name": "python3"
  },
  "language_info": {
   "codemirror_mode": {
    "name": "ipython",
    "version": 3
   },
   "file_extension": ".py",
   "mimetype": "text/x-python",
   "name": "python",
   "nbconvert_exporter": "python",
   "pygments_lexer": "ipython3",
   "version": "3.12.2"
  },
  "orig_nbformat": 4
 },
 "nbformat": 4,
 "nbformat_minor": 2
}
