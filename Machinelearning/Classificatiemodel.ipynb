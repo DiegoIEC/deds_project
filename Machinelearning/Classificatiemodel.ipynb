{
 "cells": [
  {
   "cell_type": "markdown",
   "metadata": {},
   "source": [
    "# Decision Tree Classifier"
   ]
  },
  {
   "cell_type": "code",
   "execution_count": 2,
   "metadata": {},
   "outputs": [],
   "source": [
    "import pandas as pd\n",
    "import pyodbc\n",
    "from sklearn.model_selection import train_test_split\n",
    "from sklearn.tree import DecisionTreeClassifier\n",
    "from sklearn import tree\n",
    "from sklearn import metrics\n",
    "import matplotlib.pyplot as plt"
   ]
  },
  {
   "cell_type": "code",
   "execution_count": null,
   "metadata": {},
   "outputs": [],
   "source": [
    "DB = {\n",
    "    'servername': 'tcp:dwhunitedoutdoors.database.windows.net,1433',\n",
    "    'database': 'DWH_United_Outdoors',\n",
    "    'username': 'onderzoeker',\n",
    "    'password': 'Wachtwoord1.' \n",
    "}\n",
    "\n",
    "conn_str = (\n",
    "    'DRIVER={ODBC Driver 17 for SQL Server};'\n",
    "    'SERVER=' + DB['servername'] + ';'\n",
    "    'DATABASE=' + DB['database'] + ';'\n",
    "    'UID=' + DB['username'] + ';'\n",
    "    'PWD=' + DB['password'] + ';'\n",
    "    'Encrypt=yes;'\n",
    "    'TrustServerCertificate=no;'\n",
    "    'Connection Timeout=30;'\n",
    ")\n",
    "\n",
    "dwh_conn = pyodbc.connect(conn_str)\n",
    "dwh_cursor = dwh_conn.cursor()\n",
    "dwh_cursor "
   ]
  },
  {
   "cell_type": "code",
   "execution_count": null,
   "metadata": {},
   "outputs": [],
   "source": [
    "X = merged_data[['blank']]\n",
    "y = merged_data['blank']\n",
    "\n",
    "X_train, X_test, y_train, y_test = train_test_split(X, y, test_size=0.2, random_state=42)\n",
    "\n",
    "clf = DecisionTreeClassifier(max_depth=8)\n",
    "clf.fit(X_train, y_train)\n",
    "\n",
    "y_pred = clf.predict(X_test)\n",
    "\n",
    "mse = metrics.mean_squared_error(y_test, y_pred)\n",
    "accuracy = metrics.accuracy_score(y_test, y_pred)\n",
    "print(\"Accuracy:\", accuracy)\n",
    "print(\"Mean squared error\", mse)"
   ]
  },
  {
   "cell_type": "code",
   "execution_count": null,
   "metadata": {},
   "outputs": [],
   "source": [
    "import matplotlib.pyplot as plt\n",
    "from sklearn.tree import plot_tree\n",
    "\n",
    "plt.figure(figsize=(15,10))\n",
    "plot_tree(clf, feature_names=X.columns, class_names=[str(x) for x in clf.classes_], filled=True)\n",
    "plt.show()\n"
   ]
  },
  {
   "cell_type": "code",
   "execution_count": null,
   "metadata": {},
   "outputs": [],
   "source": [
    "results_df = pd.DataFrame({'Actual': y_test, 'Predicted': y_pred})\n",
    "\n",
    "results_df"
   ]
  },
  {
   "cell_type": "code",
   "execution_count": null,
   "metadata": {},
   "outputs": [],
   "source": [
    "import numpy as np\n",
    "conf_matrix = metrics.confusion_matrix(y_test, y_pred)\n",
    "\n",
    "unique_classes = np.unique(np.concatenate((y_test, y_pred)))\n",
    "\n",
    "display = ConfusionMatrixDisplay(confusion_matrix=conf_matrix, display_labels=unique_classes)\n",
    "display.plot()\n",
    "plt.show()"
   ]
  },
  {
   "cell_type": "markdown",
   "metadata": {},
   "source": [
    "### Beschrijving"
   ]
  },
  {
   "cell_type": "markdown",
   "metadata": {},
   "source": [
    "Deze code voert een machine learning pipeline uit waarin een beslissingsboom classifier wordt gebruikt om voorspellingen te doen en de resultaten te evalueren. De data wordt eerst voorbereid door de kenmerken (X) en de doelvariabelen (y) te selecteren uit een dataset genaamd `merged_data`. Vervolgens wordt de data opgesplitst in een trainingsset en een testset, waarbij 80% van de data wordt gebruikt voor training en 20% voor testen. Dit wordt gedaan om ervoor te zorgen dat het model getraind wordt op een deel van de data en de prestaties beoordeeld kunnen worden op een apart deel van de data dat tijdens de training niet is gezien.\n",
    "\n",
    "Een beslissingsboom classifier wordt aangemaakt met een maximale diepte van 8, om overfitting te voorkomen. Dit model wordt vervolgens getraind op de trainingsdata. Na de training worden voorspellingen gedaan op de testdata, en deze voorspellingen worden vergeleken met de werkelijke waarden om de prestaties van het model te evalueren. De nauwkeurigheid van de voorspellingen wordt berekend, evenals de mean squared error, die de gemiddelde kwadratische fout tussen de voorspelde en werkelijke waarden meet.\n",
    "\n",
    "Daarnaast wordt de beslissingsboom gevisualiseerd om de structuur en de beslissingen van het model inzichtelijk te maken. Deze visualisatie helpt bij het begrijpen van de logica die het model gebruikt om tot zijn voorspellingen te komen, wat nuttig kan zijn voor interpretatie en communicatie met belanghebbenden.\n",
    "\n",
    "De resultaten van de voorspellingen worden verzameld in een DataFrame waarin de werkelijke en voorspelde waarden naast elkaar worden geplaatst, waardoor het gemakkelijk is om de prestaties van het model te analyseren en eventuele fouten te identificeren. Verder wordt er een confusiematrix aangemaakt en gevisualiseerd om gedetailleerd te kunnen zien hoeveel voorspellingen correct of incorrect waren. Deze matrix toont het aantal juiste en foute classificaties per klasse, wat helpt bij het identificeren van specifieke problemen in de voorspellingen van het model.\n",
    "\n",
    "In samenvatting combineert deze pipeline data voorbereiding, modeltraining, voorspelling, evaluatie en visualisatie om een compleet overzicht te geven van de prestaties en het gedrag van een machine learning model, specifiek een beslissingsboom classifier, in een gestructureerd en reproduceerbaar proces."
   ]
  },
  {
   "cell_type": "markdown",
   "metadata": {},
   "source": [
    "#### Belang van dit model"
   ]
  },
  {
   "cell_type": "markdown",
   "metadata": {},
   "source": [
    "De keuze voor een beslissingsboom classifier is geschikt voor het project van United Outdoors vanwege de veelzijdigheid en begrijpelijkheid van dit model. Beslissingsbomen zijn krachtige tools voor zowel classificatie- als regressietaken, wat ze ideaal maakt voor het brede scala aan data-analyses die nodig zijn na de fusie van AenC, AdventureWorks, en Northwind.\n",
    "\n",
    "In de context van deze fusie, waar de integratie van grote en diverse datasets van belang is, biedt de beslissingsboom classifier verschillende voordelen:\n",
    "\n",
    "    Eenvoud en Interpretatie: Beslissingsbomen zijn gemakkelijk te visualiseren en te interpreteren. Dit is bijzonder waardevol voor de data-analisten van United Outdoors, die sterk zijn in het bekijken van data, maar misschien niet technisch begaafd zijn. De boomstructuur maakt het eenvoudig om de beslissingslogica uit te leggen aan belanghebbenden en de resultaten te communiceren.\n",
    "\n",
    "    Flexibiliteit: De beslissingsboom kan omgaan met zowel numerieke als categorische data, wat perfect past bij de diverse datasets van de drie gefuseerde organisaties (kleding, fietsen, en voedsel). Dit model kan bijvoorbeeld voorspellingen doen over verkoopverwachtingen, klantgedrag, en voorraadbeheer op basis van verschillende variabelen.\n",
    "\n",
    "    Snelle Beslissingen: Gezien de competitieve druk om snel maar accuraat beslissingen te nemen, biedt een beslissingsboom classifier snelle modeltraining en voorspellingen. Dit helpt United Outdoors om tijdig strategische beslissingen te nemen en concurrenten zoals Great Outdoors voor te blijven.\n",
    "\n",
    "    Hyperparameter Tuning: De maximale diepte van de boom (in dit geval ingesteld op 8) kan worden aangepast om overfitting te voorkomen en de modelprestaties te optimaliseren. Dit proces van iteratieve optimalisatie is essentieel om het model robuust en nauwkeurig te maken, wat direct bijdraagt aan de kwaliteit van de voorspellingen.\n",
    "\n",
    "    Schaalbaarheid: Beslissingsbomen kunnen efficiënt schalen met de hoeveelheid data, wat belangrijk is voor een fusiebedrijf dat continue datagroei verwacht. De schaalbaarheid helpt ook bij het toevoegen van nieuwe databronnen aan het Data Warehouse zonder dat de modelprestaties significant afnemen.\n"
   ]
  }
 ],
 "metadata": {
  "kernelspec": {
   "display_name": "Python 3",
   "language": "python",
   "name": "python3"
  },
  "language_info": {
   "codemirror_mode": {
    "name": "ipython",
    "version": 3
   },
   "file_extension": ".py",
   "mimetype": "text/x-python",
   "name": "python",
   "nbconvert_exporter": "python",
   "pygments_lexer": "ipython3",
   "version": "3.12.2"
  },
  "orig_nbformat": 4
 },
 "nbformat": 4,
 "nbformat_minor": 2
}
