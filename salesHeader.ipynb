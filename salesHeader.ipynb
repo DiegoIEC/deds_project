{
 "cells": [
  {
   "cell_type": "code",
   "execution_count": 1,
   "metadata": {},
   "outputs": [],
   "source": [
    "import pandas as pd \n",
    "import pyodbc\n",
    "import warnings\n",
    "warnings.simplefilter('ignore')\n",
    "import sqlite3\n"
   ]
  },
  {
   "cell_type": "code",
   "execution_count": 2,
   "metadata": {},
   "outputs": [
    {
     "data": {
      "text/plain": [
       "<pyodbc.Cursor at 0x201dbf130b0>"
      ]
     },
     "execution_count": 2,
     "metadata": {},
     "output_type": "execute_result"
    }
   ],
   "source": [
    "\n",
    "DB = {\n",
    "    'servername': 'tcp:dwhunitedoutdoors.database.windows.net,1433',\n",
    "    'database': 'DWH_United_Outdoors',\n",
    "    'username': 'onderzoeker',\n",
    "    'password': 'Wachtwoord1.' \n",
    "}\n",
    "\n",
    "conn_str = (\n",
    "    'DRIVER={ODBC Driver 17 for SQL Server};'\n",
    "    'SERVER=' + DB['servername'] + ';'\n",
    "    'DATABASE=' + DB['database'] + ';'\n",
    "    'UID=' + DB['username'] + ';'\n",
    "    'PWD=' + DB['password'] + ';'\n",
    "    'Encrypt=yes;'\n",
    "    'TrustServerCertificate=no;'\n",
    "    'Connection Timeout=30;'\n",
    ")\n",
    "\n",
    "export_conn = pyodbc.connect(conn_str)\n",
    "export_cursor = export_conn.cursor()\n",
    "export_cursor\n"
   ]
  },
  {
   "cell_type": "code",
   "execution_count": 5,
   "metadata": {},
   "outputs": [
    {
     "ename": "ProgrammingError",
     "evalue": "('42000', '[42000] [Microsoft][ODBC SQL Server Driver][SQL Server]Cannot open database \"AdventureWorks2019\" requested by the login. The login failed. (4060) (SQLDriverConnect); [42000] [Microsoft][ODBC SQL Server Driver][SQL Server]Cannot open database \"AdventureWorks2019\" requested by the login. The login failed. (4060)')",
     "output_type": "error",
     "traceback": [
      "\u001b[1;31m---------------------------------------------------------------------------\u001b[0m",
      "\u001b[1;31mProgrammingError\u001b[0m                          Traceback (most recent call last)",
      "Cell \u001b[1;32mIn[5], line 4\u001b[0m\n\u001b[0;32m      1\u001b[0m DB_AW \u001b[38;5;241m=\u001b[39m {\u001b[38;5;124m'\u001b[39m\u001b[38;5;124mservername\u001b[39m\u001b[38;5;124m'\u001b[39m: \u001b[38;5;124m'\u001b[39m\u001b[38;5;124mTROYK\u001b[39m\u001b[38;5;130;01m\\\\\u001b[39;00m\u001b[38;5;124mSQLEXPRESS\u001b[39m\u001b[38;5;124m'\u001b[39m,\n\u001b[0;32m      2\u001b[0m \u001b[38;5;124m'\u001b[39m\u001b[38;5;124mdatabase\u001b[39m\u001b[38;5;124m'\u001b[39m: \u001b[38;5;124m'\u001b[39m\u001b[38;5;124mAdventureWorks2019\u001b[39m\u001b[38;5;124m'\u001b[39m}\n\u001b[1;32m----> 4\u001b[0m DB_AW_conn \u001b[38;5;241m=\u001b[39m \u001b[43mpyodbc\u001b[49m\u001b[38;5;241;43m.\u001b[39;49m\u001b[43mconnect\u001b[49m\u001b[43m(\u001b[49m\u001b[38;5;124;43m'\u001b[39;49m\u001b[38;5;124;43mDRIVER=\u001b[39;49m\u001b[38;5;124;43m{\u001b[39;49m\u001b[38;5;124;43mSQL Server}; SERVER=\u001b[39;49m\u001b[38;5;124;43m'\u001b[39;49m\u001b[43m \u001b[49m\u001b[38;5;241;43m+\u001b[39;49m\u001b[43m \u001b[49m\u001b[43mDB_AW\u001b[49m\u001b[43m[\u001b[49m\u001b[38;5;124;43m'\u001b[39;49m\u001b[38;5;124;43mservername\u001b[39;49m\u001b[38;5;124;43m'\u001b[39;49m\u001b[43m]\u001b[49m\u001b[43m \u001b[49m\u001b[38;5;241;43m+\u001b[39;49m\n\u001b[0;32m      5\u001b[0m \u001b[43m                              \u001b[49m\u001b[38;5;124;43m'\u001b[39;49m\u001b[38;5;124;43m;DATABASE=\u001b[39;49m\u001b[38;5;124;43m'\u001b[39;49m\u001b[43m \u001b[49m\u001b[38;5;241;43m+\u001b[39;49m\u001b[43m \u001b[49m\u001b[43mDB_AW\u001b[49m\u001b[43m[\u001b[49m\u001b[38;5;124;43m'\u001b[39;49m\u001b[38;5;124;43mdatabase\u001b[39;49m\u001b[38;5;124;43m'\u001b[39;49m\u001b[43m]\u001b[49m\u001b[43m \u001b[49m\u001b[38;5;241;43m+\u001b[39;49m\u001b[43m \u001b[49m\u001b[38;5;124;43m'\u001b[39;49m\u001b[38;5;124;43m;Trusted_Connection=yes\u001b[39;49m\u001b[38;5;124;43m'\u001b[39;49m\u001b[43m)\u001b[49m\n",
      "\u001b[1;31mProgrammingError\u001b[0m: ('42000', '[42000] [Microsoft][ODBC SQL Server Driver][SQL Server]Cannot open database \"AdventureWorks2019\" requested by the login. The login failed. (4060) (SQLDriverConnect); [42000] [Microsoft][ODBC SQL Server Driver][SQL Server]Cannot open database \"AdventureWorks2019\" requested by the login. The login failed. (4060)')"
     ]
    }
   ],
   "source": [
    "DB_AW = {'servername': 'LAPTOPTK\\\\SQLEXPRESS',\n",
    "'database': 'AdventureWorks2019'}\n",
    "\n",
    "DB_AW_conn = pyodbc.connect('DRIVER={SQL Server}; SERVER=' + DB_AW['servername'] +\n",
    "                              ';DATABASE=' + DB_AW['database'] + ';Trusted_Connection=yes')\n"
   ]
  },
  {
   "cell_type": "code",
   "execution_count": null,
   "metadata": {},
   "outputs": [],
   "source": [
    "import pandas as pd\n",
    "import pyodbc\n",
    "\n",
    "# Establish the database connection\n",
    "DB_AW_conn = pyodbc.connect(\"your_connection_string\")\n",
    "export_conn = pyodbc.connect(\"your_export_connection_string\")\n",
    "\n",
    "# Load data from the tables\n",
    "newQuery = \"SELECT * FROM [Sales].[Sales_SalesReason]\"\n",
    "sales_reason = pd.read_sql(newQuery, DB_AW_conn)\n",
    "\n",
    "newQuery = \"SELECT * FROM [Sales].[SalesOrderHeaderSalesReason]\"\n",
    "order_header_sales_reason = pd.read_sql(newQuery, DB_AW_conn)\n",
    "\n",
    "newQuery = \"SELECT * FROM [Sales].[SalesOrderHeader]\"\n",
    "order_header = pd.read_sql(newQuery, DB_AW_conn)\n",
    "\n",
    "# Merge the DataFrames\n",
    "merged_data = order_header.merge(order_header_sales_reason, on='SalesOrderID', how='left')\n",
    "merged_data = merged_data.merge(sales_reason, on='SalesReasonID', how='left')\n",
    "\n",
    "# Fill NaN values with appropriate defaults\n",
    "merged_data['Name'].fillna('', inplace=True)\n",
    "merged_data['ReasonType'].fillna('', inplace=True)\n",
    "\n",
    "# Insert the merged data into a new table\n",
    "export_cursor = export_conn.cursor()\n",
    "\n",
    "for index, row in merged_data.iterrows():\n",
    "    try:\n",
    "        query = f\"\"\"\n",
    "        INSERT INTO MergedSalesData (\n",
    "            SalesOrderID, RevisionNumber, OrderDate, DueDate, ShipDate, Status,\n",
    "            SalesOrderNumber, PurchaseOrderNumber, AccountNumber, CustomerID,\n",
    "            SalesPersonID, TerritoryID, BillToAddressID, ShipToAddressID,\n",
    "            ShipMethodID, CreditCardID, SubTotal, TaxAmt, TotalDue,\n",
    "            SalesReasonID, Name, ReasonType\n",
    "        ) VALUES (\n",
    "            {row['SalesOrderID']}, {row['RevisionNumber']}, '{row['OrderDate']}', '{row['DueDate']}', \n",
    "            '{row['ShipDate']}', {row['Status']}, '{row['SalesOrderNumber']}', \n",
    "            '{row['PurchaseOrderNumber']}', '{row['AccountNumber']}', {row['CustomerID']}, \n",
    "            {row['SalesPersonID']}, {row['TerritoryID']}, {row['BillToAddressID']}, \n",
    "            {row['ShipToAddressID']}, {row['ShipMethodID']}, {row['CreditCardID']}, \n",
    "            {row['SubTotal']}, {row['TaxAmt']}, {row['TotalDue']}, {row['SalesReasonID']}, \n",
    "            '{row['Name']}', '{row['ReasonType']}'\n",
    "        )\n",
    "        \"\"\"\n",
    "        export_cursor.execute(query)\n",
    "    except pyodbc.Error as e:\n",
    "        print(\"An error occurred:\", e)\n",
    "        print(query)\n",
    "\n",
    "export_conn.commit()\n",
    "export_cursor.close()\n"
   ]
  }
 ],
 "metadata": {
  "kernelspec": {
   "display_name": "Python 3",
   "language": "python",
   "name": "python3"
  },
  "language_info": {
   "codemirror_mode": {
    "name": "ipython",
    "version": 3
   },
   "file_extension": ".py",
   "mimetype": "text/x-python",
   "name": "python",
   "nbconvert_exporter": "python",
   "pygments_lexer": "ipython3",
   "version": "3.12.3"
  }
 },
 "nbformat": 4,
 "nbformat_minor": 2
}
